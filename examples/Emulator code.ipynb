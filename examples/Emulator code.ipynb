{
 "cells": [
  {
   "cell_type": "markdown",
   "metadata": {
    "nbpresent": {
     "id": "e9787fdc-78da-4ab8-b1c1-2803ace6db95"
    }
   },
   "source": [
    "## Predicting 21cm Ionization History curves using Emupy v1.0.0\n",
    "\n",
    "**Lawrence Phillips**\n",
    "<br>\n",
    "**July, 2021**\n",
    "\n",
    "---\n",
    "\n",
    "Here we will create interpolation functions (an emulator) for the spherically-averaged 21cm brightness temperature power spectrum $P_{21}(k,z)$. The data itself are actually in the units $\\Delta^{2}_{21}(k,z) = P_{21}(k,z)k^{3}/(2\\pi^{2})\\ [\\rm{mK}^{2}]$. The data in `lh_training.pkl` are drawn from a random Latin-Hypercube design in a **three dimensional** model parameter space of the UV ionizing efficiency parameter ($\\zeta$), the virial temperature of star-forming halos ($T_{vir}^{min}$), and the mean-free path of ionizing photons through ionized regions ($R_{mfp}$). See [Kern et al. 2017](https://arxiv.org/abs/1705.04688) for parameterization details. The data in `cross_inspection.pkl` are drawn from a uniform grid across each individual parameter while holding all others constant. \n",
    "\n",
    "The example below has certain code dependencies. See [emupy](github.com/nkern/emupy) for dependency details and installation instructions."
   ]
  },
  {
   "cell_type": "code",
   "execution_count": 3,
   "metadata": {
    "nbpresent": {
     "id": "a370fc2e-1287-4adc-a068-0c87b2941804"
    }
   },
   "outputs": [],
   "source": [
    "# Import modules\n",
    "%matplotlib inline\n",
    "import numpy as np\n",
    "import emupy\n",
    "import pickle as pkl\n",
    "import sklearn.gaussian_process as gp\n",
    "import astropy.stats as astats\n",
    "import matplotlib.pyplot as plt\n",
    "import torch\n",
    "import h5py\n",
    "import os"
   ]
  },
  {
   "cell_type": "code",
   "execution_count": 167,
   "metadata": {},
   "outputs": [
    {
     "name": "stdout",
     "output_type": "stream",
     "text": [
      "<KeysViewHDF5 ['E_0', 'T_vir', 'x_21cmfast', 'z', 'zeta']>\n",
      "<KeysViewHDF5 ['E_0', 'T_vir', 'x_21cmfast', 'z', 'zeta']>\n",
      "<KeysViewHDF5 ['E_0', 'T_vir', 'x_21cmfast', 'z', 'zeta']>\n",
      "<KeysViewHDF5 ['E_0', 'T_vir', 'x_21cmfast', 'z', 'zeta']>\n",
      "<KeysViewHDF5 ['E_0', 'T_vir', 'x_21cmfast', 'z', 'zeta']>\n",
      "<KeysViewHDF5 ['E_0', 'T_vir', 'x_21cmfast', 'z', 'zeta']>\n",
      "<KeysViewHDF5 ['E_0', 'T_vir', 'x_21cmfast', 'z', 'zeta']>\n",
      "<KeysViewHDF5 ['E_0', 'T_vir', 'x_21cmfast', 'z', 'zeta']>\n",
      "<KeysViewHDF5 ['E_0', 'T_vir', 'x_21cmfast', 'z', 'zeta']>\n",
      "<KeysViewHDF5 ['E_0', 'T_vir', 'x_21cmfast', 'z', 'zeta']>\n"
     ]
    },
    {
     "ename": "TypeError",
     "evalue": "Not a location id (invalid object ID)",
     "output_type": "error",
     "traceback": [
      "\u001b[0;31m---------------------------------------------------------------------------\u001b[0m",
      "\u001b[0;31mTypeError\u001b[0m                                 Traceback (most recent call last)",
      "\u001b[0;32m<ipython-input-167-45b0d5b99a86>\u001b[0m in \u001b[0;36m<module>\u001b[0;34m\u001b[0m\n\u001b[1;32m      9\u001b[0m \u001b[0;31m# A) empty all the groups in the new .h5 file\u001b[0m\u001b[0;34m\u001b[0m\u001b[0;34m\u001b[0m\u001b[0;34m\u001b[0m\u001b[0m\n\u001b[1;32m     10\u001b[0m \u001b[0;32mfor\u001b[0m \u001b[0mi\u001b[0m \u001b[0;32min\u001b[0m \u001b[0md_names\u001b[0m\u001b[0;34m:\u001b[0m\u001b[0;34m\u001b[0m\u001b[0;34m\u001b[0m\u001b[0m\n\u001b[0;32m---> 11\u001b[0;31m     \u001b[0;32mfor\u001b[0m \u001b[0mj\u001b[0m  \u001b[0;32min\u001b[0m \u001b[0md_struct\u001b[0m\u001b[0;34m[\u001b[0m\u001b[0mi\u001b[0m\u001b[0;34m]\u001b[0m\u001b[0;34m:\u001b[0m\u001b[0;34m\u001b[0m\u001b[0;34m\u001b[0m\u001b[0m\n\u001b[0m\u001b[1;32m     12\u001b[0m         \u001b[0mget_ipython\u001b[0m\u001b[0;34m(\u001b[0m\u001b[0;34m)\u001b[0m\u001b[0;34m.\u001b[0m\u001b[0msystem\u001b[0m\u001b[0;34m(\u001b[0m\u001b[0;34m\"h5copy -i '{i}' -o 'output.h5' -s {j} -d {j}\"\u001b[0m\u001b[0;34m)\u001b[0m\u001b[0;34m\u001b[0m\u001b[0;34m\u001b[0m\u001b[0m\n",
      "\u001b[0;32m/lustre/aoc/projects/hera/lphillip/anaconda3/envs/21cmfast/lib/python3.9/_collections_abc.py\u001b[0m in \u001b[0;36m__iter__\u001b[0;34m(self)\u001b[0m\n\u001b[1;32m    823\u001b[0m \u001b[0;34m\u001b[0m\u001b[0m\n\u001b[1;32m    824\u001b[0m     \u001b[0;32mdef\u001b[0m \u001b[0m__iter__\u001b[0m\u001b[0;34m(\u001b[0m\u001b[0mself\u001b[0m\u001b[0;34m)\u001b[0m\u001b[0;34m:\u001b[0m\u001b[0;34m\u001b[0m\u001b[0;34m\u001b[0m\u001b[0m\n\u001b[0;32m--> 825\u001b[0;31m         \u001b[0;32myield\u001b[0m \u001b[0;32mfrom\u001b[0m \u001b[0mself\u001b[0m\u001b[0;34m.\u001b[0m\u001b[0m_mapping\u001b[0m\u001b[0;34m\u001b[0m\u001b[0;34m\u001b[0m\u001b[0m\n\u001b[0m\u001b[1;32m    826\u001b[0m \u001b[0;34m\u001b[0m\u001b[0m\n\u001b[1;32m    827\u001b[0m \u001b[0;34m\u001b[0m\u001b[0m\n",
      "\u001b[0;32m/lustre/aoc/projects/hera/lphillip/anaconda3/envs/21cmfast/lib/python3.9/site-packages/h5py/_hl/group.py\u001b[0m in \u001b[0;36m__iter__\u001b[0;34m(self)\u001b[0m\n\u001b[1;32m    407\u001b[0m     \u001b[0;32mdef\u001b[0m \u001b[0m__iter__\u001b[0m\u001b[0;34m(\u001b[0m\u001b[0mself\u001b[0m\u001b[0;34m)\u001b[0m\u001b[0;34m:\u001b[0m\u001b[0;34m\u001b[0m\u001b[0;34m\u001b[0m\u001b[0m\n\u001b[1;32m    408\u001b[0m         \u001b[0;34m\"\"\" Iterate over member names \"\"\"\u001b[0m\u001b[0;34m\u001b[0m\u001b[0;34m\u001b[0m\u001b[0m\n\u001b[0;32m--> 409\u001b[0;31m         \u001b[0;32mfor\u001b[0m \u001b[0mx\u001b[0m \u001b[0;32min\u001b[0m \u001b[0mself\u001b[0m\u001b[0;34m.\u001b[0m\u001b[0mid\u001b[0m\u001b[0;34m.\u001b[0m\u001b[0m__iter__\u001b[0m\u001b[0;34m(\u001b[0m\u001b[0;34m)\u001b[0m\u001b[0;34m:\u001b[0m\u001b[0;34m\u001b[0m\u001b[0;34m\u001b[0m\u001b[0m\n\u001b[0m\u001b[1;32m    410\u001b[0m             \u001b[0;32myield\u001b[0m \u001b[0mself\u001b[0m\u001b[0;34m.\u001b[0m\u001b[0m_d\u001b[0m\u001b[0;34m(\u001b[0m\u001b[0mx\u001b[0m\u001b[0;34m)\u001b[0m\u001b[0;34m\u001b[0m\u001b[0;34m\u001b[0m\u001b[0m\n\u001b[1;32m    411\u001b[0m \u001b[0;34m\u001b[0m\u001b[0m\n",
      "\u001b[0;32mh5py/h5g.pyx\u001b[0m in \u001b[0;36mh5py.h5g.GroupID.__iter__\u001b[0;34m()\u001b[0m\n",
      "\u001b[0;32mh5py/h5g.pyx\u001b[0m in \u001b[0;36mh5py.h5g.GroupID.__iter__\u001b[0;34m()\u001b[0m\n",
      "\u001b[0;32mh5py/h5g.pyx\u001b[0m in \u001b[0;36mh5py.h5g.GroupIter.__init__\u001b[0;34m()\u001b[0m\n",
      "\u001b[0;32mh5py/_objects.pyx\u001b[0m in \u001b[0;36mh5py._objects.with_phil.wrapper\u001b[0;34m()\u001b[0m\n",
      "\u001b[0;32mh5py/_objects.pyx\u001b[0m in \u001b[0;36mh5py._objects.with_phil.wrapper\u001b[0;34m()\u001b[0m\n",
      "\u001b[0;32mh5py/h5g.pyx\u001b[0m in \u001b[0;36mh5py.h5g.GroupID.get_num_objs\u001b[0;34m()\u001b[0m\n",
      "\u001b[0;31mTypeError\u001b[0m: Not a location id (invalid object ID)"
     ]
    }
   ],
   "source": [
    "d_names = os.listdir('/users/lphillip/mylustre/gitrepos/emupy/examples/cm_batchs')\n",
    "d_struct = {} #Here we will store the database structure\n",
    "for i in d_names:\n",
    "    f = h5py.File('/users/lphillip/mylustre/gitrepos/emupy/examples/cm_batchs/'+i,'r+')\n",
    "    print(f.keys())\n",
    "    d_struct[i] = f.keys()\n",
    "    f.close()\n",
    "\n",
    "# A) empty all the groups in the new .h5 file \n",
    "for i in d_names:\n",
    "    for j  in d_struct[i]:\n",
    "        !h5copy -i '{i}' -o 'output.h5' -s {j} -d {j}"
   ]
  },
  {
   "cell_type": "code",
   "execution_count": 123,
   "metadata": {},
   "outputs": [
    {
     "data": {
      "text/plain": [
       "<KeysViewHDF5 ['alpha', 'k_0', 'x_zreion', 'z', 'z_mean']>"
      ]
     },
     "execution_count": 123,
     "metadata": {},
     "output_type": "execute_result"
    }
   ],
   "source": [
    "#read hdf5 file\n",
    "f_cm = h5py.File(\"qsub100sims21cmfastsimscopy.hdf5\", \"r+\")\n",
    "f_zr = h5py.File(\"qsub1000simszresims-Copy1.hdf5\", \"r+\")\n",
    "f_zr.keys()"
   ]
  },
  {
   "cell_type": "code",
   "execution_count": 124,
   "metadata": {},
   "outputs": [
    {
     "name": "stdout",
     "output_type": "stream",
     "text": [
      "(100, 30)\n"
     ]
    }
   ],
   "source": [
    "#extract zreion and 21cmFast file data into np arrays\n",
    "zr_params_array = np.array([f_zr['alpha'],f_zr['k_0'],f_zr['z_mean']]).T\n",
    "x_zreion = np.array(f_zr['x_zreion'])\n",
    "\n",
    "cm_params_array = np.array([f_cm['E_0'],f_cm['zeta'],f_cm['T_vir']]).T\n",
    "z_array = np.array(f_cm['z'])\n",
    "x_21cmfast = np.array(f_cm['x_21cmfast'])\n",
    "\n",
    "#z scales are the same size in both \n",
    "print(x_zreion.shape)"
   ]
  },
  {
   "cell_type": "code",
   "execution_count": 148,
   "metadata": {
    "nbpresent": {
     "id": "6ae8a1c5-e70e-41b3-8efa-9c2ff1a971b3"
    }
   },
   "outputs": [],
   "source": [
    "#reassigning to match nkerns original code\n",
    "\n",
    "#Using 90% of the simulated data for training\n",
    "#Slice the last 90%\n",
    "data_tr_cm = x_21cmfast[10:100]\n",
    "grid_tr_cm = cm_params_array[10:100]\n",
    "\n",
    "data_tr_zr = x_zreion[10:100]\n",
    "grid_tr_zr = zr_params_array[10:100]\n",
    "\n",
    "#Using 10% of the simulated data for training\n",
    "#Slice the first 10%\n",
    "data_cr_cm = x_21cmfast[1:10]\n",
    "grid_cr_cm = cm_params_array[1:10]\n",
    "\n",
    "data_cr_zr = x_zreion[1:10]\n",
    "grid_cr_zr = zr_params_array[1:10]"
   ]
  },
  {
   "cell_type": "markdown",
   "metadata": {
    "nbpresent": {
     "id": "3edbdbdf-48cb-4bc5-9863-c4364894356b"
    }
   },
   "source": [
    "`data_tr` is the array containing our training data y-values. It has shape `(200, 33)`, which corresponds to 200 individual samples within our 3-dimensional model space, each with 33 individual data elements of $\\Delta^{2}_{21}$ that we want to emulate. The 33 elements of the data correspond to the power spectrum across 11 $k$ values found in `k_range` at redshifts $z = [8, 9, 10]$.\n",
    "\n",
    "`grid_tr` is the array containing the training data x-values. It has shape `(200, 3)`, which corresponds to the 200 individual samples within our 3-dimensional model space, each with a unique vector position in the 3-d parameter space."
   ]
  },
  {
   "cell_type": "code",
   "execution_count": 126,
   "metadata": {
    "nbpresent": {
     "id": "60b4b9e8-1d7c-412a-9468-b04b838d3dbd"
    }
   },
   "outputs": [
    {
     "data": {
      "text/plain": [
       "[<matplotlib.lines.Line2D at 0x7f78f97dc280>]"
      ]
     },
     "execution_count": 126,
     "metadata": {},
     "output_type": "execute_result"
    },
    {
     "data": {
      "image/png": "[encoded data removed]",
      "text/plain": [
       "<Figure size 576x288 with 2 Axes>"
      ]
     },
     "metadata": {
      "needs_background": "light"
     },
     "output_type": "display_data"
    }
   ],
   "source": [
    "# Plot training data x-values\n",
    "fig = plt.figure(figsize=(8,4))\n",
    "fig.subplots_adjust(wspace=0.3)\n",
    "\n",
    "ax = fig.add_subplot(121)\n",
    "ax.grid(True)\n",
    "p0, = ax.plot(grid_tr.T[0], grid_tr.T[1], 'k.')\n",
    "p1, = ax.plot(grid_cr.T[0], grid_cr.T[1], 'r.')\n",
    "ax.plot(grid_cr.T[0], grid_cr.T[1], 'r.')\n",
    "# ax.set_xlabel('$\\zeta$', fontsize=16)\n",
    "# ax.set_ylabel('$T_{vir}^{min}\\ [{K}]$', fontsize=16)\n",
    "ax.legend([p0,p1],['training data', 'cross validation data'])\n",
    "\n",
    "ax = fig.add_subplot(122)\n",
    "ax.grid(True)\n",
    "ax.plot(grid_tr.T[0], grid_tr.T[2], 'k.')\n",
    "ax.plot(grid_cr.T[0], grid_cr.T[2], 'r.')\n",
    "ax.plot(grid_cr.T[0], grid_cr.T[2], 'r.')\n",
    "# ax.set_xlabel('$\\zeta$', fontsize=16)\n",
    "# ax.set_ylabel('$R_{mfp}\\ [{pltc}]$', fontsize=16)"
   ]
  },
  {
   "cell_type": "markdown",
   "metadata": {},
   "source": [
    "__Figure 1__ | Training data feature values across the three dimensional astrophysical parameter space. Black points are the training data, red points are the cross-validation data drawn specifically to show the behavior of the prediction wrt each parameter indepedently."
   ]
  },
  {
   "cell_type": "code",
   "execution_count": 142,
   "metadata": {},
   "outputs": [
    {
     "name": "stderr",
     "output_type": "stream",
     "text": [
      "/lustre/aoc/projects/hera/lphillip/anaconda3/envs/21cmfast/lib/python3.9/site-packages/emupy-1.0.0-py3.9.egg/emupy/emulator.py:213: RuntimeWarning: divide by zero encountered in log\n",
      "  y_scaled = np.log(y)\n"
     ]
    }
   ],
   "source": [
    "# initialize emulator\n",
    "E_cm = emupy.NNEmulator()\n",
    "E_zr = emupy.NNEmulator()\n",
    "\n",
    "# scale training target data\n",
    "E_cm.scale_data(data_tr_cm, lognorm=True, center=False, whiten=False, save=True);\n",
    "E_zr.scale_data(data_tr_zr, lognorm=True, center=False, whiten=False, save=True);\n",
    "\n",
    "# sphere training feature data\n",
    "E_cm.sphere(grid_tr_cm, save=True);\n",
    "E_zr.sphere(grid_tr_zr, save=True);\n",
    "\n",
    "#do not have a continous distrubition of samples, what does the dervivative look like around a given point "
   ]
  },
  {
   "cell_type": "code",
   "execution_count": 143,
   "metadata": {},
   "outputs": [
    {
     "name": "stderr",
     "output_type": "stream",
     "text": [
      "/lustre/aoc/projects/hera/lphillip/anaconda3/envs/21cmfast/lib/python3.9/site-packages/emupy-1.0.0-py3.9.egg/emupy/nn.py:75: UserWarning: nn.init.xavier_normal is now deprecated in favor of nn.init.xavier_normal_.\n",
      "  init(self.layers[i].weight)\n"
     ]
    }
   ],
   "source": [
    "# setup NN if NN emulating\n",
    "np.random.seed(0)\n",
    "torch.set_default_dtype(torch.float64)\n",
    "layers = [torch.nn.Linear(3, 50), torch.nn.Linear(50, 100), torch.nn.Linear(100, 30)]\n",
    "inits = [torch.nn.init.xavier_normal, torch.nn.init.xavier_normal, torch.nn.init.xavier_normal]\n",
    "activations = [torch.nn.Tanh(), torch.nn.Tanh(), None]\n",
    "\n",
    "# E_cm.set_layers(layers)\n",
    "# E_cm.set_inits(inits)\n",
    "# E_cm.set_activations(activations)\n",
    "\n",
    "E_zr.set_layers(layers)\n",
    "E_zr.set_inits(inits)\n",
    "E_zr.set_activations(activations)"
   ]
  },
  {
   "cell_type": "code",
   "execution_count": 144,
   "metadata": {},
   "outputs": [],
   "source": [
    "# train\n",
    "#E_cm.train(E.Xsph, E.y_scaled, Nepochs=1000)\n",
    "E_zr.train(E.Xsph, E.y_scaled, Nepochs=1000)"
   ]
  },
  {
   "cell_type": "code",
   "execution_count": 97,
   "metadata": {},
   "outputs": [],
   "source": [
    "#plt.plot(E.loss)\n",
    "# plt.yscale('log')\n",
    "# plt.grid()\n",
    "# plt.xlabel(\"Epoch\")\n",
    "# plt.ylabel(\"loss\")"
   ]
  },
  {
   "cell_type": "code",
   "execution_count": 145,
   "metadata": {},
   "outputs": [],
   "source": [
    "#x0_predict = E_cm.predict(E.sphere(grid_cr_cm[0], Xmean=E.Xmean, L=E.L), unscale=True)\n",
    "x1_predict = E_zr.predict(E.sphere(grid_cr_zr[0], Xmean=E.Xmean, L=E.L), unscale=True)"
   ]
  },
  {
   "cell_type": "code",
   "execution_count": 131,
   "metadata": {},
   "outputs": [
    {
     "data": {
      "text/plain": [
       "[<matplotlib.lines.Line2D at 0x7f78f96547c0>]"
      ]
     },
     "execution_count": 131,
     "metadata": {},
     "output_type": "execute_result"
    },
    {
     "data": {
      "image/png": "[encoded data removed]",
      "text/plain": [
       "<Figure size 432x288 with 1 Axes>"
      ]
     },
     "metadata": {
      "needs_background": "light"
     },
     "output_type": "display_data"
    }
   ],
   "source": [
    "plt.plot(z_array,x0_predict.squeeze())\n",
    "plt.plot(z_array, data_cr_cm[0,:])"
   ]
  },
  {
   "cell_type": "code",
   "execution_count": 147,
   "metadata": {},
   "outputs": [
    {
     "data": {
      "text/plain": [
       "[<matplotlib.lines.Line2D at 0x7f78f27a2f40>]"
      ]
     },
     "execution_count": 147,
     "metadata": {},
     "output_type": "execute_result"
    },
    {
     "data": {
      "image/png": "[encoded data removed]",
      "text/plain": [
       "<Figure size 432x288 with 1 Axes>"
      ]
     },
     "metadata": {
      "needs_background": "light"
     },
     "output_type": "display_data"
    }
   ],
   "source": [
    "plt.plot(z_array,x1_predict.squeeze())\n",
    "plt.plot(z_array, data_cr_zr[0,:])"
   ]
  },
  {
   "cell_type": "code",
   "execution_count": null,
   "metadata": {},
   "outputs": [],
   "source": []
  }
 ],
 "metadata": {
  "anaconda-cloud": {},
  "kernelspec": {
   "display_name": "21cmfast",
   "language": "python",
   "name": "21cmfast"
  },
  "language_info": {
   "codemirror_mode": {
    "name": "ipython",
    "version": 3
   },
   "file_extension": ".py",
   "mimetype": "text/x-python",
   "name": "python",
   "nbconvert_exporter": "python",
   "pygments_lexer": "ipython3",
   "version": "3.9.4"
  }
 },
 "nbformat": 4,
 "nbformat_minor": 1
}
